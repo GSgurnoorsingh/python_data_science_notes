{
 "cells": [
  {
   "cell_type": "markdown",
   "id": "b916103f",
   "metadata": {},
   "source": [
    "# Datatypes in numpy"
   ]
  },
  {
   "cell_type": "markdown",
   "id": "a0261511",
   "metadata": {},
   "source": [
    "They are indicated by the following:-\n",
    "i-integer\n",
    "b-boolean\n",
    "u-unsigned integer\n",
    "f-float\n",
    "c-complex float\n",
    "m-timedelta\n",
    "M-datetime\n",
    "O-object\n",
    "S-string\n",
    "U-unicode string\n",
    "V-fixed chunk of memory for other type ( void )\n"
   ]
  },
  {
   "cell_type": "code",
   "execution_count": null,
   "id": "f2ae3ab3",
   "metadata": {},
   "outputs": [
    {
     "name": "stdout",
     "output_type": "stream",
     "text": [
      "int32\n"
     ]
    }
   ],
   "source": [
    "import numpy as np\n",
    "arr=np.array([1,2,3,4])\n",
    "print(arr.dtype) #This gives us the datatype of the array"
   ]
  },
  {
   "cell_type": "code",
   "execution_count": 2,
   "id": "1854ea89",
   "metadata": {},
   "outputs": [
    {
     "name": "stdout",
     "output_type": "stream",
     "text": [
      "<U6\n"
     ]
    }
   ],
   "source": [
    "arr=np.array(['Apple','banana','cherry'])\n",
    "print(arr.dtype)"
   ]
  },
  {
   "cell_type": "code",
   "execution_count": 3,
   "id": "a3d795b4",
   "metadata": {},
   "outputs": [
    {
     "name": "stdout",
     "output_type": "stream",
     "text": [
      "[b'1' b'2' b'3' b'4']\n",
      "|S1\n"
     ]
    }
   ],
   "source": [
    "arr=np.array([1,2,3,4],dtype='S')\n",
    "print(arr)\n",
    "print(arr.dtype)"
   ]
  },
  {
   "cell_type": "code",
   "execution_count": 4,
   "id": "ad5f5444",
   "metadata": {},
   "outputs": [
    {
     "name": "stdout",
     "output_type": "stream",
     "text": [
      "[1 2 3 4]\n",
      "int32\n"
     ]
    }
   ],
   "source": [
    "#Creating an array with data type 4 bytes integer\n",
    "arr=np.array([1,2,3,4],dtype='i4')\n",
    "print(arr)\n",
    "print(arr.dtype)"
   ]
  },
  {
   "cell_type": "code",
   "execution_count": 5,
   "id": "5a78bb89",
   "metadata": {},
   "outputs": [
    {
     "name": "stdout",
     "output_type": "stream",
     "text": [
      "[1 2 3]\n",
      "int32\n"
     ]
    }
   ],
   "source": [
    "#Converting datatypes on existing arrays\n",
    "arr=np.array([1.1,2.2,3.3])\n",
    "newarr=arr.astype('i') #astype() function creates the copy of the array and allows you to specify the datatype as a parameter\n",
    "print(newarr)\n",
    "print(newarr.dtype)"
   ]
  },
  {
   "cell_type": "code",
   "execution_count": 7,
   "id": "6c220071",
   "metadata": {},
   "outputs": [
    {
     "name": "stdout",
     "output_type": "stream",
     "text": [
      "[1 2 3]\n",
      "int32\n"
     ]
    }
   ],
   "source": [
    "arr=np.array([1.1,2.2,3.1])\n",
    "newarr=arr.astype(int)\n",
    "print(newarr)\n",
    "print(newarr.dtype)"
   ]
  },
  {
   "cell_type": "code",
   "execution_count": 8,
   "id": "f78566c5",
   "metadata": {},
   "outputs": [
    {
     "name": "stdout",
     "output_type": "stream",
     "text": [
      "[ True False  True]\n",
      "bool\n"
     ]
    }
   ],
   "source": [
    "arr=np.array([1,0,3])\n",
    "newarr=arr.astype(bool)\n",
    "print(newarr)\n",
    "print(newarr.dtype)"
   ]
  },
  {
   "cell_type": "markdown",
   "id": "0807c16e",
   "metadata": {},
   "source": [
    "# Numpy array copy vs view"
   ]
  },
  {
   "cell_type": "code",
   "execution_count": null,
   "id": "d0f7f929",
   "metadata": {},
   "outputs": [
    {
     "name": "stdout",
     "output_type": "stream",
     "text": [
      "[42  2  3  4]\n",
      "[1 2 3 4]\n"
     ]
    }
   ],
   "source": [
    "#Copy\n",
    "arr=np.array([1,2,3,4])\n",
    "x=arr.copy()\n",
    "arr[0]=42\n",
    "print(arr)\n",
    "print(x) #Ultimately ythe changes were not done in the copy of the original array "
   ]
  },
  {
   "cell_type": "code",
   "execution_count": null,
   "id": "424c2076",
   "metadata": {},
   "outputs": [
    {
     "name": "stdout",
     "output_type": "stream",
     "text": [
      "[42  2  3  4]\n",
      "[42  2  3  4]\n"
     ]
    }
   ],
   "source": [
    "#View\n",
    "arr=np.array([1,2,3,4])\n",
    "x=arr.view()\n",
    "arr[0]=42\n",
    "print(arr)\n",
    "print(x) #In view method the changes are also done to the copy (it can be said otherwise it's just a view of the original one)\n",
    "#similarly you can also change the value of x. Ex- x[0]=32"
   ]
  },
  {
   "cell_type": "code",
   "execution_count": null,
   "id": "cc23a3ff",
   "metadata": {},
   "outputs": [
    {
     "name": "stdout",
     "output_type": "stream",
     "text": [
      "None\n",
      "[1 2 3 4 5]\n"
     ]
    }
   ],
   "source": [
    "#Checking if array owns its data\n",
    "arr=np.array([1,2,3,4,5])\n",
    "\n",
    "x=arr.copy()\n",
    "y=arr.view()\n",
    "\n",
    "print(x.base)\n",
    "print(y.base)\n",
    "\n",
    "#copy return 'none' as it does not own any data of the original array\n",
    "#whereas view returns the original array as it owns it's data"
   ]
  },
  {
   "cell_type": "markdown",
   "id": "9d3fa831",
   "metadata": {},
   "source": [
    "Shape of an array"
   ]
  },
  {
   "cell_type": "code",
   "execution_count": null,
   "id": "354797be",
   "metadata": {},
   "outputs": [
    {
     "name": "stdout",
     "output_type": "stream",
     "text": [
      "(2, 4)\n"
     ]
    }
   ],
   "source": [
    "#shape is the number of elements in each dimension\n",
    "arr=np.array([[1,2,3,4],[5,6,7,8]])\n",
    "print(arr.shape)\n",
    "#means the array has 2 dimensions where first dimension has 2 elements and second has 4 elements"
   ]
  },
  {
   "cell_type": "code",
   "execution_count": 14,
   "id": "0e78160d",
   "metadata": {},
   "outputs": [
    {
     "name": "stdout",
     "output_type": "stream",
     "text": [
      "[[[[[1 2 3 4]]]]]\n",
      "shape of the array:  (1, 1, 1, 1, 4)\n"
     ]
    }
   ],
   "source": [
    "arr=np.array([1,2,3,4],ndmin=5)\n",
    "print(arr)\n",
    "print('shape of the array: ',arr.shape)"
   ]
  },
  {
   "cell_type": "markdown",
   "id": "4c6b7015",
   "metadata": {},
   "source": [
    "Reshaping an array"
   ]
  },
  {
   "cell_type": "code",
   "execution_count": 2,
   "id": "a6631db1",
   "metadata": {},
   "outputs": [
    {
     "name": "stdout",
     "output_type": "stream",
     "text": [
      "[[ 1  2  3]\n",
      " [ 4  5  6]\n",
      " [ 7  8  9]\n",
      " [10 11 12]]\n"
     ]
    }
   ],
   "source": [
    "import numpy as np\n",
    "arr=np.array([1,2,3,4,5,6,7,8,9,10,11,12])\n",
    "newarr=arr.reshape(4,3)\n",
    "print(newarr)"
   ]
  },
  {
   "cell_type": "code",
   "execution_count": null,
   "id": "625086b4",
   "metadata": {},
   "outputs": [
    {
     "name": "stdout",
     "output_type": "stream",
     "text": [
      "[[[ 1  2]\n",
      "  [ 3  4]\n",
      "  [ 5  6]]\n",
      "\n",
      " [[ 7  8]\n",
      "  [ 9 10]\n",
      "  [11 12]]]\n"
     ]
    }
   ],
   "source": [
    "arr=np.array([1,2,3,4,5,6,7,8,9,10,11,12])\n",
    "newarr=arr.reshape(2,3,2) #reshaping 1D into 3D array\n",
    "print(newarr)\n",
    "# We can reshape an 8 elements 1D array into 4 elements in 2 rows 2D array \n",
    "# but we cannot reshape it into a 3 elements 3 rows 2D array as that would require 3x3 = 9 elements."
   ]
  },
  {
   "cell_type": "code",
   "execution_count": null,
   "id": "24ac4fe2",
   "metadata": {},
   "outputs": [
    {
     "name": "stdout",
     "output_type": "stream",
     "text": [
      "[1 2 3 4 5 6 7 8]\n"
     ]
    }
   ],
   "source": [
    "arr=np.array([1,2,3,4,5,6,7,8])\n",
    "print(arr.reshape(2,4).base) #Since it returns the original array hence it's a view"
   ]
  },
  {
   "cell_type": "code",
   "execution_count": null,
   "id": "d3c28c48",
   "metadata": {},
   "outputs": [
    {
     "name": "stdout",
     "output_type": "stream",
     "text": [
      "[[[1 2]\n",
      "  [3 4]]\n",
      "\n",
      " [[5 6]\n",
      "  [7 8]]]\n"
     ]
    }
   ],
   "source": [
    "arr=np.array([1,2,3,4,5,6,7,8])\n",
    "newarr=arr.reshape(2,2,-1) #passing -1 basically means that python will automatically generate the third number for you to pass\n",
    "print(newarr) #converting 1D array with 8 elements into 3D array with 2X2 elements"
   ]
  },
  {
   "cell_type": "code",
   "execution_count": 7,
   "id": "f7622fc6",
   "metadata": {},
   "outputs": [
    {
     "name": "stdout",
     "output_type": "stream",
     "text": [
      "[1 2 3 4 5 6]\n"
     ]
    }
   ],
   "source": [
    "#Flattening the array means converting a multidimensional array into a 1D array\n",
    "arr=np.array([[1,2,3],[4,5,6]])\n",
    "newarr=arr.reshape(-1)\n",
    "print(newarr)"
   ]
  },
  {
   "cell_type": "markdown",
   "id": "75c39aad",
   "metadata": {},
   "source": [
    "# Array iteration"
   ]
  },
  {
   "cell_type": "code",
   "execution_count": 8,
   "id": "1db90519",
   "metadata": {},
   "outputs": [
    {
     "name": "stdout",
     "output_type": "stream",
     "text": [
      "1\n",
      "2\n",
      "3\n",
      "4\n",
      "5\n",
      "6\n",
      "7\n",
      "8\n"
     ]
    }
   ],
   "source": [
    "import numpy as np\n",
    "arr=np.array([1,2,3,4,5,6,7,8])\n",
    "for x in arr:\n",
    "    print(x)"
   ]
  },
  {
   "cell_type": "code",
   "execution_count": 9,
   "id": "5b997eff",
   "metadata": {},
   "outputs": [
    {
     "name": "stdout",
     "output_type": "stream",
     "text": [
      "[1 2 3]\n",
      "[4 5 6]\n"
     ]
    }
   ],
   "source": [
    "arr=np.array([[1,2,3],[4,5,6]])\n",
    "for x in arr:\n",
    "    print(x)"
   ]
  },
  {
   "cell_type": "code",
   "execution_count": 10,
   "id": "f1bc8620",
   "metadata": {},
   "outputs": [
    {
     "name": "stdout",
     "output_type": "stream",
     "text": [
      "1\n",
      "2\n",
      "3\n",
      "4\n",
      "5\n",
      "6\n"
     ]
    }
   ],
   "source": [
    "#for printing all the lements manually \n",
    "for x in arr:\n",
    "    for y in x:\n",
    "        print(y)"
   ]
  },
  {
   "cell_type": "code",
   "execution_count": 11,
   "id": "a8d0f0fa",
   "metadata": {},
   "outputs": [
    {
     "name": "stdout",
     "output_type": "stream",
     "text": [
      "[[1 2 3]\n",
      " [4 5 6]]\n",
      "[[ 7  8  9]\n",
      " [10 11 12]]\n"
     ]
    }
   ],
   "source": [
    "arr=np.array([[[1,2,3],[4,5,6]],[[7,8,9],[10,11,12]]])\n",
    "for x in arr:\n",
    "    print(x)"
   ]
  },
  {
   "cell_type": "code",
   "execution_count": 14,
   "id": "450c0085",
   "metadata": {},
   "outputs": [
    {
     "name": "stdout",
     "output_type": "stream",
     "text": [
      "1\n",
      "2\n",
      "3\n",
      "4\n",
      "5\n",
      "6\n",
      "7\n",
      "8\n",
      "9\n",
      "10\n",
      "11\n",
      "12\n"
     ]
    }
   ],
   "source": [
    "for x in arr:\n",
    "    for y in x:\n",
    "        for z in y:\n",
    "            print(z)"
   ]
  },
  {
   "cell_type": "code",
   "execution_count": null,
   "id": "902af5c5",
   "metadata": {},
   "outputs": [
    {
     "name": "stdout",
     "output_type": "stream",
     "text": [
      "1\n",
      "2\n",
      "3\n",
      "4\n",
      "5\n",
      "6\n",
      "7\n",
      "8\n"
     ]
    }
   ],
   "source": [
    "import numpy as np\n",
    "arr=np.array([[[1,2],[3,4]],[[5,6],[7,8]]])\n",
    "for x in np.nditer(arr): #nditer() is a helping function that can be used from very basic to very advanced iterations. \n",
    "#It solves some basic issues which we face in iteration\n",
    "    print(x)"
   ]
  },
  {
   "cell_type": "markdown",
   "id": "e5f18839",
   "metadata": {},
   "source": [
    "np.nditer() is an iterator object used to efficiently iterate through NumPy arrays.\n",
    "\n",
    "It allows advanced options like changing the data type during iteration or working with multi-dimensional arrays."
   ]
  },
  {
   "cell_type": "code",
   "execution_count": null,
   "id": "fa4d9344",
   "metadata": {},
   "outputs": [
    {
     "name": "stdout",
     "output_type": "stream",
     "text": [
      "b'1'\n",
      "b'2'\n",
      "b'3'\n"
     ]
    }
   ],
   "source": [
    "arr=np.array([1,2,3])\n",
    "for x in np.nditer(arr,flags=['buffered'],op_dtypes=['S']): #We actually converted the datatype into string while iterating\n",
    "    print(x) #and we used a buffer in case we needed it"
   ]
  },
  {
   "cell_type": "code",
   "execution_count": null,
   "id": "ffe446c4",
   "metadata": {},
   "outputs": [
    {
     "name": "stdout",
     "output_type": "stream",
     "text": [
      "1\n",
      "3\n",
      "5\n",
      "7\n"
     ]
    }
   ],
   "source": [
    "#Iterating with different step size\n",
    "arr=np.array([[1,2,3,4],[5,6,7,8]])\n",
    "for x in np.nditer(arr[:,::2]): #We skipped step size\n",
    "    print(x)"
   ]
  },
  {
   "cell_type": "code",
   "execution_count": 5,
   "id": "c71e6319",
   "metadata": {},
   "outputs": [
    {
     "name": "stdout",
     "output_type": "stream",
     "text": [
      "(0,) 1\n",
      "(1,) 2\n",
      "(2,) 3\n"
     ]
    }
   ],
   "source": [
    "#Enumerated iteration using ndenumerate()\n",
    "arr=np.array([1,2,3])\n",
    "for idx,x in np.ndenumerate(arr):\n",
    "    print(idx,x)"
   ]
  },
  {
   "cell_type": "code",
   "execution_count": 6,
   "id": "df50a086",
   "metadata": {},
   "outputs": [
    {
     "name": "stdout",
     "output_type": "stream",
     "text": [
      "(0, 0) 1\n",
      "(0, 1) 2\n",
      "(0, 2) 3\n",
      "(1, 0) 4\n",
      "(1, 1) 5\n",
      "(1, 2) 6\n"
     ]
    }
   ],
   "source": [
    "arr=np.array([[1,2,3],[4,5,6]])\n",
    "for idx,x in np.ndenumerate(arr):\n",
    "    print(idx,x)"
   ]
  },
  {
   "cell_type": "code",
   "execution_count": null,
   "id": "d29f77e4",
   "metadata": {},
   "outputs": [],
   "source": []
  }
 ],
 "metadata": {
  "kernelspec": {
   "display_name": "base",
   "language": "python",
   "name": "python3"
  },
  "language_info": {
   "codemirror_mode": {
    "name": "ipython",
    "version": 3
   },
   "file_extension": ".py",
   "mimetype": "text/x-python",
   "name": "python",
   "nbconvert_exporter": "python",
   "pygments_lexer": "ipython3",
   "version": "3.12.7"
  }
 },
 "nbformat": 4,
 "nbformat_minor": 5
}

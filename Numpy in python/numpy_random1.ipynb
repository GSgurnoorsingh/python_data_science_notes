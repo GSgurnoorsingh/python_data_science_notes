{
 "cells": [
  {
   "cell_type": "code",
   "execution_count": 3,
   "id": "cbc36fcc",
   "metadata": {},
   "outputs": [
    {
     "name": "stdout",
     "output_type": "stream",
     "text": [
      "46\n"
     ]
    }
   ],
   "source": [
    "#Numpy offers random module to work with random numbers\n",
    "from numpy import random\n",
    "x=random.randint(100)\n",
    "print(x)"
   ]
  },
  {
   "cell_type": "code",
   "execution_count": 5,
   "id": "66677a6c",
   "metadata": {},
   "outputs": [
    {
     "name": "stdout",
     "output_type": "stream",
     "text": [
      "0.2707637870260027\n"
     ]
    }
   ],
   "source": [
    "#rand() method returns random float\n",
    "x=random.rand()\n",
    "print(x)"
   ]
  },
  {
   "cell_type": "code",
   "execution_count": 6,
   "id": "b20ab258",
   "metadata": {},
   "outputs": [
    {
     "name": "stdout",
     "output_type": "stream",
     "text": [
      "[42 17 22 59 22]\n"
     ]
    }
   ],
   "source": [
    "#Generating a random 1D array containing 5 random integers from 0 to 100\n",
    "x=random.randint(100,size=5)\n",
    "print(x)"
   ]
  },
  {
   "cell_type": "code",
   "execution_count": null,
   "id": "cdafbb5b",
   "metadata": {},
   "outputs": [
    {
     "name": "stdout",
     "output_type": "stream",
     "text": [
      "[[25 23 87 38 32]\n",
      " [33 10 63 60 45]\n",
      " [73 13 39 88 33]]\n"
     ]
    }
   ],
   "source": [
    "x=random.randint(100,size=(3,5))\n",
    "print(x) #generating 2D array with 3 rows,each row containing 5 random integers"
   ]
  },
  {
   "cell_type": "code",
   "execution_count": 9,
   "id": "f6412a65",
   "metadata": {},
   "outputs": [
    {
     "name": "stdout",
     "output_type": "stream",
     "text": [
      "[0.03972031 0.32635127 0.39648301 0.44401025 0.54752375]\n",
      "[[0.3028843  0.45735391 0.16511454 0.66418592 0.99471651]\n",
      " [0.13093572 0.32366864 0.57155306 0.89824181 0.99330238]\n",
      " [0.53328731 0.63704417 0.61850521 0.4933601  0.07440618]]\n"
     ]
    }
   ],
   "source": [
    "x=random.rand(5)\n",
    "print(x)\n",
    "\n",
    "x=random.rand(3,5)\n",
    "print(x)"
   ]
  },
  {
   "cell_type": "code",
   "execution_count": 11,
   "id": "572ff1a6",
   "metadata": {},
   "outputs": [
    {
     "name": "stdout",
     "output_type": "stream",
     "text": [
      "3\n"
     ]
    }
   ],
   "source": [
    "#The choice() method allows you to generate a random value based on an array of values.\n",
    "\n",
    "#The choice() method takes an array as a parameter and randomly returns one of the values.\n",
    "\n",
    "x=random.choice([3,5,7,9])\n",
    "print(x)"
   ]
  },
  {
   "cell_type": "code",
   "execution_count": 16,
   "id": "72e44d2e",
   "metadata": {},
   "outputs": [
    {
     "name": "stdout",
     "output_type": "stream",
     "text": [
      "[[5 7 7 7 7]\n",
      " [7 3 3 9 9]\n",
      " [3 3 7 9 5]]\n"
     ]
    }
   ],
   "source": [
    "x=random.choice([3,5,7,9],size=(3,5))\n",
    "print(x)"
   ]
  },
  {
   "cell_type": "markdown",
   "id": "e5987fcc",
   "metadata": {},
   "source": [
    "# Data distribution\n",
    "Data Distribution is a list of all possible values, and how often each value occurs."
   ]
  },
  {
   "cell_type": "markdown",
   "id": "ccd7c12e",
   "metadata": {},
   "source": [
    "A random distribution is a set of random numbers that follow a certain probability density function.\n",
    "\n",
    "Probability Density Function: A function that describes a continuous probability. i.e. probability of all values in an array."
   ]
  },
  {
   "cell_type": "markdown",
   "id": "9fbe52c2",
   "metadata": {},
   "source": [
    "Q Generate a 1-D array containing 100 values, where each value has to be 3, 5, 7 or 9.\n",
    "\n",
    "The probability for the value to be 3 is set to be 0.1\n",
    "\n",
    "The probability for the value to be 5 is set to be 0.3\n",
    "\n",
    "The probability for the value to be 7 is set to be 0.6\n",
    "\n",
    "The probability for the value to be 9 is set to be 0"
   ]
  },
  {
   "cell_type": "code",
   "execution_count": 17,
   "id": "41eb3764",
   "metadata": {},
   "outputs": [
    {
     "name": "stdout",
     "output_type": "stream",
     "text": [
      "[5 7 7 7 5 7 7 5 5 7 7 7 7 7 7 5 5 5 7 7 7 7 7 7 7 7 5 5 5 5 7 7 5 5 7 3 7\n",
      " 7 7 7 7 7 5 5 5 5 7 7 7 7 7 3 5 5 7 7 7 5 7 7 7 5 5 7 7 5 7 7 5 7 7 5 7 7\n",
      " 5 5 3 7 7 7 7 7 7 5 3 7 7 5 7 7 7 5 7 7 7 7 7 7 5 3]\n"
     ]
    }
   ],
   "source": [
    "from numpy import random\n",
    "x=random.choice([3,5,7,9],p=[0.1,0.3,0.6,0.0],size=(100))\n",
    "print(x)"
   ]
  },
  {
   "cell_type": "code",
   "execution_count": 18,
   "id": "f6f063f2",
   "metadata": {},
   "outputs": [
    {
     "name": "stdout",
     "output_type": "stream",
     "text": [
      "[[5 7 7 7 5]\n",
      " [7 5 7 3 7]\n",
      " [3 7 5 7 7]]\n"
     ]
    }
   ],
   "source": [
    "x=random.choice([3,5,7,9],p=[0.1,0.3,0.6,0.0],size=(3,5))\n",
    "print(x)"
   ]
  },
  {
   "cell_type": "markdown",
   "id": "027c4213",
   "metadata": {},
   "source": [
    "# Random permutation of arrays\n",
    "Shuffling arrays -\n",
    "Shuffle means changing arrangement of elements in-place. i.e. in the array itself."
   ]
  },
  {
   "cell_type": "code",
   "execution_count": 1,
   "id": "1e9c25af",
   "metadata": {},
   "outputs": [
    {
     "name": "stdout",
     "output_type": "stream",
     "text": [
      "[4 3 5 2 1]\n"
     ]
    }
   ],
   "source": [
    "from numpy import random\n",
    "import numpy as np\n",
    "arr=np.array([1,2,3,4,5])\n",
    "random.shuffle(arr)\n",
    "print(arr)"
   ]
  },
  {
   "cell_type": "code",
   "execution_count": 2,
   "id": "919de03f",
   "metadata": {},
   "outputs": [
    {
     "name": "stdout",
     "output_type": "stream",
     "text": [
      "[1 3 4 5 2]\n"
     ]
    }
   ],
   "source": [
    "#permutation() method returns a rearranged array\n",
    "arr=np.array([1,2,3,4,5])\n",
    "print(random.permutation(arr))"
   ]
  },
  {
   "cell_type": "markdown",
   "id": "d1f196bc",
   "metadata": {},
   "source": [
    "# Seaborn module"
   ]
  },
  {
   "cell_type": "markdown",
   "id": "b549a221",
   "metadata": {},
   "source": [
    "Seaborn is a library that uses Matplotlib underneath to plot graphs. It will be used to visualize random distributions.\n",
    "\n",
    "Displots - Displot stands for distribution plot, it takes as input an array and plots a curve corresponding to the distribution of points in the array."
   ]
  },
  {
   "cell_type": "code",
   "execution_count": 3,
   "id": "a9b602e4",
   "metadata": {},
   "outputs": [
    {
     "data": {
      "image/png": "[encoded data removed]",
      "text/plain": [
       "<Figure size 500x500 with 1 Axes>"
      ]
     },
     "metadata": {},
     "output_type": "display_data"
    }
   ],
   "source": [
    "import matplotlib.pyplot as plt\n",
    "import seaborn as sns\n",
    "sns.displot([0,1,2,3,4,5])\n",
    "plt.show()"
   ]
  },
  {
   "cell_type": "code",
   "execution_count": 5,
   "id": "5d82ca9f",
   "metadata": {},
   "outputs": [
    {
     "data": {
      "image/png": "[encoded data removed]",
      "text/plain": [
       "<Figure size 500x500 with 1 Axes>"
      ]
     },
     "metadata": {},
     "output_type": "display_data"
    }
   ],
   "source": [
    "#Plotting a displot without histogram\n",
    "sns.displot([0,1,2,3,4,5],kind='kde') #sns.displot(arr, kind=\"kde\") to visualize random distributions in this tutorial\n",
    "plt.show()"
   ]
  },
  {
   "cell_type": "markdown",
   "id": "44ec4998",
   "metadata": {},
   "source": [
    "# Normal distribution\n",
    "The Normal Distribution is one of the most important distributions.\n",
    "\n",
    "It is also called the Gaussian Distribution after the German mathematician Carl Friedrich Gauss.\n",
    "\n",
    "It fits the probability distribution of many events, eg. IQ Scores, Heartbeat etc.\n",
    "\n",
    "Use the random.normal() method to get a Normal Data Distribution.\n",
    "\n",
    "It has three parameters:\n",
    "\n",
    "loc - (Mean) where the peak of the bell exists.\n",
    "\n",
    "scale - (Standard Deviation) how flat the graph distribution should be.\n",
    "\n",
    "size - The shape of the returned array."
   ]
  },
  {
   "cell_type": "code",
   "execution_count": 6,
   "id": "1b054d98",
   "metadata": {},
   "outputs": [
    {
     "name": "stdout",
     "output_type": "stream",
     "text": [
      "[[ 0.35829679  0.00280776  2.69560819]\n",
      " [ 1.21524869 -0.31874974 -1.00809588]]\n"
     ]
    }
   ],
   "source": [
    "x=random.normal(size=(2,3))\n",
    "print(x)"
   ]
  },
  {
   "cell_type": "code",
   "execution_count": 10,
   "id": "81ef7834",
   "metadata": {},
   "outputs": [
    {
     "name": "stdout",
     "output_type": "stream",
     "text": [
      "[[ 2.01081586 -2.53766624 -1.04344995]\n",
      " [ 3.94019631 -0.08038354  6.87541074]]\n"
     ]
    }
   ],
   "source": [
    "#Generate a random normal distribution of size 2x3 with mean at 1 and standard deviation of 2:\n",
    "x=random.normal(loc=1,scale=2,size=(2,3))\n",
    "print(x)"
   ]
  },
  {
   "cell_type": "code",
   "execution_count": null,
   "id": "41387852",
   "metadata": {},
   "outputs": [
    {
     "data": {
      "image/png": "[encoded data removed]",
      "text/plain": [
       "<Figure size 500x500 with 1 Axes>"
      ]
     },
     "metadata": {},
     "output_type": "display_data"
    }
   ],
   "source": [
    "from numpy import random\n",
    "import matplotlib.pyplot as plt\n",
    "import seaborn as sns\n",
    "\n",
    "sns.displot(random.normal(size=1000),kind='kde') #The curve of a Normal Distribution is also known as the Bell Curve \n",
    "#because of the bell-shaped curve.\n",
    "plt.show()"
   ]
  },
  {
   "cell_type": "code",
   "execution_count": null,
   "id": "e89e4447",
   "metadata": {},
   "outputs": [],
   "source": []
  }
 ],
 "metadata": {
  "kernelspec": {
   "display_name": "base",
   "language": "python",
   "name": "python3"
  },
  "language_info": {
   "codemirror_mode": {
    "name": "ipython",
    "version": 3
   },
   "file_extension": ".py",
   "mimetype": "text/x-python",
   "name": "python",
   "nbconvert_exporter": "python",
   "pygments_lexer": "ipython3",
   "version": "3.12.7"
  }
 },
 "nbformat": 4,
 "nbformat_minor": 5
}
